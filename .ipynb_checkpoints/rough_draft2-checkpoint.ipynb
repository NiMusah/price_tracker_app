{
 "cells": [
  {
   "cell_type": "code",
   "execution_count": 1,
   "metadata": {},
   "outputs": [
    {
     "data": {
      "text/plain": [
       "<Response [200]>"
      ]
     },
     "execution_count": 1,
     "metadata": {},
     "output_type": "execute_result"
    }
   ],
   "source": [
    "#import the requests library and download the webpage of interest\n",
    "\n",
    "import requests\n",
    "product_url= 'https://www.jumia.co.ke/fashion-3ply-protective-medical-face-mask-disposable-surgical-dust-mask-28506647.html'\n",
    "headers= {\"User-Agent\": 'Mozilla/5.0 (Windows NT 10.0; Win64; x64) AppleWebKit/537.36 (KHTML, like Gecko) Brave Chrome/80.0.3987.162 Safari/537.36'}\n",
    "\n",
    "\n",
    "#test the success of the request\n",
    "page=requests.get(product_url, headers=headers)\n",
    "page"
   ]
  },
  {
   "cell_type": "code",
   "execution_count": 2,
   "metadata": {},
   "outputs": [],
   "source": [
    "#import the BeautifulSoup library to parse the contents of downloaded page\n",
    "\n",
    "from bs4 import BeautifulSoup\n",
    "soup=BeautifulSoup(page.content, 'html.parser')"
   ]
  },
  {
   "cell_type": "code",
   "execution_count": 3,
   "metadata": {},
   "outputs": [
    {
     "data": {
      "text/plain": [
       "'Fashion 3ply Protective Medical Face Mask Disposable Surgical Dust Mask'"
      ]
     },
     "execution_count": 3,
     "metadata": {},
     "output_type": "execute_result"
    }
   ],
   "source": [
    "#get the product title using it's specific class\n",
    "\n",
    "product_title=soup.find(attrs={'-fs20 -pts -pbxs'}).get_text()\n",
    "product_title"
   ]
  },
  {
   "cell_type": "code",
   "execution_count": 4,
   "metadata": {},
   "outputs": [
    {
     "data": {
      "text/plain": [
       "7999.0"
      ]
     },
     "execution_count": 4,
     "metadata": {},
     "output_type": "execute_result"
    }
   ],
   "source": [
    "##get the product price using it's specific class\n",
    "\n",
    "product_price=soup.find(attrs={'-b -ltr -tal -fs24'}).get_text()\n",
    "\n",
    "#convert the price to float\n",
    "\n",
    "converted_price=float(product_price[4:9].replace(',', ''))\n",
    "converted_price"
   ]
  },
  {
   "cell_type": "code",
   "execution_count": 5,
   "metadata": {},
   "outputs": [],
   "source": [
    "#import the smtplib library to to define an SMTP client seesion object\n",
    "\n",
    "import smtplib"
   ]
  },
  {
   "cell_type": "markdown",
   "metadata": {},
   "source": [
    "\n",
    "\n",
    "\n",
    "#Generate an App Password by following the steps mentioned in the link: https://support.google.com/mail/answer/185833?hl=en"
   ]
  },
  {
   "cell_type": "code",
   "execution_count": 6,
   "metadata": {},
   "outputs": [],
   "source": [
    "#define an SMTP client session object to be used to send emails\n",
    "\n",
    "def send_mail():\n",
    "    server=smtplib.SMTP('smtp.gmail.com', 587)\n",
    "    server.ehlo()\n",
    "    \n",
    "    server.starttls()\n",
    "    server.ehlo    \n",
    "    server.login('zikisdataconsultancy@gmail.com', 'ndfftcfbhexztpxl')\n",
    "    \n",
    "    subject='Jumia Price Check'\n",
    "    body='Check the Jumia link: https://www.jumia.co.ke/fashion-3ply-protective-medical-face-mask-disposable-surgical-dust-mask-28506647.html'\n",
    "    \n",
    "    msg= f\"Subject: {subject}\\n\\n{body}\"\n",
    "    server.sendmail(\n",
    "    'zikisdataconsultancy@gmail.com',\n",
    "    'musa.masibo@gmail.com',\n",
    "    msg)\n",
    "    \n",
    "    print('I have no clue what to do with this!!!!!!!!!!!!!')\n",
    "    \n",
    "    server.quit()  #closess the client session    "
   ]
  },
  {
   "cell_type": "code",
   "execution_count": 7,
   "metadata": {},
   "outputs": [],
   "source": [
    "# generate a function to check product price\n",
    "\n",
    "def jumia_price_track():\n",
    "    if (converted_price== 7999.0):\n",
    "        send_mail()   \n",
    "    \n",
    "    \n",
    "    if (converted_price < 7999.0):\n",
    "        send_mail() "
   ]
  },
  {
   "cell_type": "code",
   "execution_count": 8,
   "metadata": {},
   "outputs": [
    {
     "name": "stdout",
     "output_type": "stream",
     "text": [
      "I have no clue what to do with this!!!!!!!!!!!!!\n"
     ]
    }
   ],
   "source": [
    "jumia_price_track()"
   ]
  }
 ],
 "metadata": {
  "kernelspec": {
   "display_name": "Python 3",
   "language": "python",
   "name": "python3"
  },
  "language_info": {
   "codemirror_mode": {
    "name": "ipython",
    "version": 3
   },
   "file_extension": ".py",
   "mimetype": "text/x-python",
   "name": "python",
   "nbconvert_exporter": "python",
   "pygments_lexer": "ipython3",
   "version": "3.8.0"
  }
 },
 "nbformat": 4,
 "nbformat_minor": 4
}
