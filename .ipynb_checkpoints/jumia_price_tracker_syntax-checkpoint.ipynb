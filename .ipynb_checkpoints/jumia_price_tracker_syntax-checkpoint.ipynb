{
 "cells": [
  {
   "cell_type": "code",
   "execution_count": null,
   "metadata": {},
   "outputs": [],
   "source": [
    "#import the requests library and download the webpage of interest\n",
    "\n",
    "import requests\n",
    "product_url= 'url_of_interest'\n",
    "headers= {\"User-Agent\": 'Mozilla/5.0 (Windows NT 10.0; Win64; x64) AppleWebKit/537.36 (KHTML, like Gecko) Brave Chrome/80.0.3987.162 Safari/537.36'}\n",
    "\n",
    "\n",
    "#test the success of the request\n",
    "page=requests.get(product_url, headers=headers)\n",
    "page"
   ]
  },
  {
   "cell_type": "code",
   "execution_count": 4,
   "metadata": {},
   "outputs": [],
   "source": [
    "#import the BeautifulSoup library to parse the contents of downloaded page\n",
    "\n",
    "from bs4 import BeautifulSoup\n",
    "soup=BeautifulSoup(page.content, 'html.parser')"
   ]
  },
  {
   "cell_type": "code",
   "execution_count": null,
   "metadata": {},
   "outputs": [],
   "source": [
    "#get the product title using it's specific class/id\n",
    "\n",
    "product_title=soup.find(attrs={'class_name'}).get_text() #applicable when using class as an identifier\n",
    "product_title\n",
    "\n",
    "#get the product price using it's specific class/id and convert it to a float data type\n",
    "\n",
    "product_price=soup.find(attrs={'class_name'}).get_text()  #applicable when using class as an identifier\n",
    "converted_price=float(product_price[4:9].replace(',', ''))\n",
    "converted_price"
   ]
  },
  {
   "cell_type": "markdown",
   "metadata": {},
   "source": [
    "### App Password\n",
    "\n",
    "An App Password is a 16-digit passcode that gives a non-Google app or device permission to access your Google Account. Generate the 16-digit passcode by following the steps mentioned in the link: https://support.google.com/mail/answer/185833?hl=en"
   ]
  },
  {
   "cell_type": "code",
   "execution_count": 10,
   "metadata": {},
   "outputs": [],
   "source": [
    "#import the smtplib library to to define an SMTP client seesion object\n",
    "\n",
    "import smtplib\n",
    "\n",
    "#define an SMTP client session object to be used to send emails\n",
    "\n",
    "def send_mail():\n",
    "    server=smtplib.SMTP('smtp.gmail.com', 587)\n",
    "    server.ehlo()\n",
    "    \n",
    "    server.starttls()\n",
    "    server.ehlo    \n",
    "    server.login('sender_email_address', '16-digit passcode')\n",
    "    \n",
    "    subject='subject_of_email'\n",
    "    body='body_of_email'\n",
    "    \n",
    "    msg= f\"Subject: {subject}\\n\\n{body}\"\n",
    "    server.sendmail(\n",
    "    'sender_email_address',\n",
    "    'receiver_email_address',\n",
    "    msg)\n",
    "    \n",
    "    print('text_to_verify_email_sent')\n",
    "    \n",
    "    \n",
    "    server.quit()   #quit the client session\n",
    "    "
   ]
  },
  {
   "cell_type": "code",
   "execution_count": 11,
   "metadata": {},
   "outputs": [],
   "source": [
    "# generate a function to check product price\n",
    "\n",
    "def jumia_price_track():\n",
    "    if (converted_price== 'price_point_of_intrest'):\n",
    "        send_mail()"
   ]
  },
  {
   "cell_type": "code",
   "execution_count": 12,
   "metadata": {},
   "outputs": [],
   "source": [
    "#call the function to determine your price point\n",
    "\n",
    "jumia_price_track()"
   ]
  }
 ],
 "metadata": {
  "kernelspec": {
   "display_name": "Python 3",
   "language": "python",
   "name": "python3"
  },
  "language_info": {
   "codemirror_mode": {
    "name": "ipython",
    "version": 3
   },
   "file_extension": ".py",
   "mimetype": "text/x-python",
   "name": "python",
   "nbconvert_exporter": "python",
   "pygments_lexer": "ipython3",
   "version": "3.8.0"
  }
 },
 "nbformat": 4,
 "nbformat_minor": 4
}
